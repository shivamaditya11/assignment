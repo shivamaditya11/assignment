{
 "cells": [
  {
   "cell_type": "markdown",
   "id": "ce9ccb59",
   "metadata": {},
   "source": [
    "\n",
    "1. In the below elements which of them are values or an expression? eg:- values can be integer or string and expressions will be mathematical operators.\n",
    "* \n",
    "'hello'\n",
    "-87.8\n",
    "- \n",
    "/ \n",
    "+\n",
    "6 "
   ]
  },
  {
   "cell_type": "markdown",
   "id": "5e23b8a1",
   "metadata": {},
   "source": [
    "*- mathetical expression\n",
    "hello- string\n",
    "-87.8- float value\n",
    "- - mathetical expression\n",
    "/ -mathetical expression\n",
    "+-mathetical expression\n",
    "6 -integer"
   ]
  },
  {
   "cell_type": "markdown",
   "id": "18adb957",
   "metadata": {},
   "source": [
    "Q2.What is the difference between string and variable?"
   ]
  },
  {
   "cell_type": "markdown",
   "id": "186da35e",
   "metadata": {},
   "source": [
    "Variable is a name of the location in the primary location of our computer.\n",
    "String is a class and reference datatype enclosed with \"\""
   ]
  },
  {
   "cell_type": "markdown",
   "id": "5b983d4f",
   "metadata": {},
   "source": [
    "Q3.Describe three different data types."
   ]
  },
  {
   "cell_type": "markdown",
   "id": "69a2dd09",
   "metadata": {},
   "source": [
    "integer:- It is a datatype used to store a number without a fractional component.\n",
    "string:- It is a datatype used to store a tezt . string can also store number and symbol,but it always treated as text.\n",
    "float:- It is a datatype used to store number that can contain fractional component."
   ]
  },
  {
   "cell_type": "markdown",
   "id": "13ad2fd8",
   "metadata": {},
   "source": [
    "Q4.What is an expression made up of? What do all expressions do?"
   ]
  },
  {
   "cell_type": "markdown",
   "id": "053e4552",
   "metadata": {},
   "source": [
    "expression is madeup of variable , operator and method.Expression is used to produce some other value.eg. 2+3=5"
   ]
  },
  {
   "cell_type": "markdown",
   "id": "37ec5e1c",
   "metadata": {},
   "source": [
    "Q5.This assignment statements, like spam = 10. What is the difference between an expression and a statement?"
   ]
  },
  {
   "cell_type": "markdown",
   "id": "0576b0e1",
   "metadata": {},
   "source": [
    "Expression is an combination of variable, operator and value.eg.3*3. whereas statement represent an action eg. spam=10 or print spam."
   ]
  },
  {
   "cell_type": "markdown",
   "id": "e72b0406",
   "metadata": {},
   "source": [
    "6. After running the following code, what does the variable bacon contain?\n",
    "bacon = 22\n",
    "bacon + 1"
   ]
  },
  {
   "cell_type": "markdown",
   "id": "d1707fee",
   "metadata": {},
   "source": [
    "bacon variable will contain 23"
   ]
  },
  {
   "cell_type": "markdown",
   "id": "d52d0fb0",
   "metadata": {},
   "source": [
    "7. What should the values of the following two terms be?\n",
    "'spam' + 'spamspam'\n",
    "'spam' * 3"
   ]
  },
  {
   "cell_type": "markdown",
   "id": "49a482b9",
   "metadata": {},
   "source": [
    "The values for both the term will be spamspamspam"
   ]
  },
  {
   "cell_type": "markdown",
   "id": "1b71d7f6",
   "metadata": {},
   "source": [
    "8. Why is eggs a valid variable name while 100 is invalid?"
   ]
  },
  {
   "cell_type": "markdown",
   "id": "25f4b96e",
   "metadata": {},
   "source": [
    "number cannot be a variable because it will not create a difference from numeric constant."
   ]
  },
  {
   "cell_type": "markdown",
   "id": "9ba2c078",
   "metadata": {},
   "source": [
    "9. What three functions can be used to get the integer, floating-point number, or string version of a value?"
   ]
  },
  {
   "cell_type": "markdown",
   "id": "cd106d81",
   "metadata": {},
   "source": [
    "The three functions are int(),float(),str()"
   ]
  },
  {
   "cell_type": "markdown",
   "id": "c8fd7924",
   "metadata": {},
   "source": [
    "10. Why does this expression cause an error? How can you fix it?\n",
    "'I have eaten ' + 99 + ' burritos.'"
   ]
  },
  {
   "cell_type": "markdown",
   "id": "59c97db7",
   "metadata": {},
   "source": [
    "we can use the addition operator to add two integer or to concatenate two string, but we cant use addition operator for two\n",
    "different datatypes simulataneously. we can fix the above expression by typecasting the int into string.foreg.\n",
    "'i have eaten'+str(99)+'burritos'"
   ]
  },
  {
   "cell_type": "code",
   "execution_count": null,
   "id": "fbf44a1e",
   "metadata": {},
   "outputs": [],
   "source": []
  }
 ],
 "metadata": {
  "kernelspec": {
   "display_name": "Python 3 (ipykernel)",
   "language": "python",
   "name": "python3"
  },
  "language_info": {
   "codemirror_mode": {
    "name": "ipython",
    "version": 3
   },
   "file_extension": ".py",
   "mimetype": "text/x-python",
   "name": "python",
   "nbconvert_exporter": "python",
   "pygments_lexer": "ipython3",
   "version": "3.9.7"
  }
 },
 "nbformat": 4,
 "nbformat_minor": 5
}

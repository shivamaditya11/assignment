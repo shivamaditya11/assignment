{
 "cells": [
  {
   "cell_type": "markdown",
   "id": "fa42469a",
   "metadata": {},
   "source": [
    "1.What are the two values of the Boolean data type? How do you write them?\n"
   ]
  },
  {
   "cell_type": "markdown",
   "id": "8e31a889",
   "metadata": {},
   "source": [
    "The two values are True and false.\n"
   ]
  },
  {
   "cell_type": "markdown",
   "id": "ba98e010",
   "metadata": {},
   "source": [
    "2. What are the three different types of Boolean operators?"
   ]
  },
  {
   "cell_type": "markdown",
   "id": "cfb860a9",
   "metadata": {},
   "source": [
    "The three different types of boolean operators are AND OR AND NOT."
   ]
  },
  {
   "cell_type": "markdown",
   "id": "ed016f77",
   "metadata": {},
   "source": [
    "3. Make a list of each Boolean operator's truth tables (i.e. every possible combination of Boolean values for the operator and what it evaluate ).\n"
   ]
  },
  {
   "cell_type": "markdown",
   "id": "af3bd7b6",
   "metadata": {},
   "source": [
    "AND OPERTOR:-\n",
    "    X   AND  Y      OUTPUT\n",
    "  TRUE  AND FALSE    FALSE\n",
    "  TRUE  AND TRUE     TRUE\n",
    "  FALSE AND TRUE     FALSE\n",
    "  FALSE AND FALSE    FALSE\n",
    "\n",
    "OR OPERATOR:-\n",
    "      X   AND  Y      OUTPUT\n",
    "  TRUE  AND FALSE      TRUE\n",
    "  TRUE  AND TRUE       TRUE\n",
    "  FALSE AND TRUE       TRUE\n",
    "  FALSE AND FALSE      FALSE\n",
    "  \n",
    " NOT OPERATOR:-\n",
    "   NOT  X    OUTPUT\n",
    "   NOT TRUE   FALSE\n",
    "   NOT FALSE  TRUE"
   ]
  },
  {
   "cell_type": "markdown",
   "id": "a380c57f",
   "metadata": {},
   "source": [
    "4. What are the values of the following expressions?\n",
    "(5 > 4) and (3 == 5): FALSE \n",
    "not (5 > 4):FALSE\n",
    "(5 > 4) or (3 == 5):TRUE\n",
    "not ((5 > 4) or (3 == 5)):FALSE\n",
    "(True and True) and (True == False):FALSE \n",
    "(not False) or (not True):TRUE\n"
   ]
  },
  {
   "cell_type": "markdown",
   "id": "fdc6333a",
   "metadata": {},
   "source": [
    "5.What are the six comparison operators?"
   ]
  },
  {
   "cell_type": "markdown",
   "id": "08bfedb9",
   "metadata": {},
   "source": [
    "Less than (<)\n",
    "Less than or equal to (<=)\n",
    "Greater than (>)\n",
    "Greater than or equal to (>=)\n",
    "Equal to (==)\n",
    "Not Equal to (!=)"
   ]
  },
  {
   "cell_type": "markdown",
   "id": "0e51aff2",
   "metadata": {},
   "source": [
    "6.How do you tell the difference between the equal to and assignment operators?Describe a condition and when you would use one."
   ]
  },
  {
   "cell_type": "markdown",
   "id": "2a4a53a0",
   "metadata": {},
   "source": [
    "Equal to is used to assign the value to the variable whereas \"==\" is used to check whether two operands are equal or not.\n",
    "\n",
    "x=100\n",
    "y=100\n",
    "if x==y:\n",
    "    print(\"True\")\n",
    "else:\n",
    "    print(\"False\")"
   ]
  },
  {
   "cell_type": "markdown",
   "id": "1348b0e5",
   "metadata": {},
   "source": [
    "7. Identify the three blocks in this code:\n",
    "spam = 0\n",
    "if spam == 10:\n",
    "print('eggs')\n",
    "if spam > 5:\n",
    "print('bacon')\n",
    "else:\n",
    "print('ham')\n",
    "print('spam')\n",
    "print('spam')\n"
   ]
  },
  {
   "cell_type": "code",
   "execution_count": 1,
   "id": "a9c3f9af",
   "metadata": {},
   "outputs": [
    {
     "name": "stdout",
     "output_type": "stream",
     "text": [
      "ham\n",
      "spam\n",
      "spam\n"
     ]
    }
   ],
   "source": [
    "spam = 0\n",
    "if spam == 10:\n",
    "    print('eggs')\n",
    "if spam > 5:\n",
    "    print('bacon')\n",
    "else:\n",
    "    print('ham')\n",
    "    print('spam')\n",
    "    print('spam')"
   ]
  },
  {
   "cell_type": "markdown",
   "id": "697cf553",
   "metadata": {},
   "source": [
    "the three level are as follows:\n",
    "1st level    when spam is 10 then eggs will be the output.\n",
    "2nd level when spam is more than 5 then bacon will be the output.\n",
    "3rd level when spam is anything else then 'ham','spam','spam' will be the output."
   ]
  },
  {
   "cell_type": "markdown",
   "id": "1b3b6b31",
   "metadata": {},
   "source": [
    "8. Write code that prints Hello if 1 is stored in spam, prints Howdy if 2 is stored in spam, and prints Greetings! if anything else is stored in spam."
   ]
  },
  {
   "cell_type": "code",
   "execution_count": 2,
   "id": "49a03d03",
   "metadata": {},
   "outputs": [
    {
     "name": "stdout",
     "output_type": "stream",
     "text": [
      "please enter the value: 2\n",
      "Howdy\n"
     ]
    }
   ],
   "source": [
    "spam=int(input('please enter the value: '))\n",
    "if spam ==1:\n",
    "    print ('Hello')\n",
    "elif spam==2:\n",
    "    print('Howdy')\n",
    "else:\n",
    "    print (\"Greetings!\")"
   ]
  },
  {
   "cell_type": "markdown",
   "id": "0770d240",
   "metadata": {},
   "source": [
    "9.If your programme is stuck in an endless loop, what keys you’ll press?"
   ]
  },
  {
   "cell_type": "markdown",
   "id": "6894afb4",
   "metadata": {},
   "source": [
    "to get out of the endless loop we should press ctrl+c key"
   ]
  },
  {
   "cell_type": "markdown",
   "id": "82ea9cd4",
   "metadata": {},
   "source": [
    "10.How can you tell the difference between break and continue?"
   ]
  },
  {
   "cell_type": "markdown",
   "id": "1081cb3c",
   "metadata": {},
   "source": [
    "The difference between break and continue is that break is used for immediate termination of loop. On the other hand, continue statement terminate current iteration and resumes the control to the next iteration of the loop."
   ]
  },
  {
   "cell_type": "markdown",
   "id": "a85f2d67",
   "metadata": {},
   "source": [
    "11. In a for loop, what is the difference between range(10), range(0, 10), and range(0, 10, 1)?"
   ]
  },
  {
   "cell_type": "markdown",
   "id": "39713600",
   "metadata": {},
   "source": [
    "range(10)= this by default consider the starting point as 10\n",
    "range(0,10)-this generate sequence based on start and stop point.\n",
    "range(0,10,-1)- this will generate input by incrementing the start value using stepsize until it reaches the end point."
   ]
  },
  {
   "cell_type": "markdown",
   "id": "e5d811e8",
   "metadata": {},
   "source": [
    "12. Write a short program that prints the numbers 1 to 10 using a for loop. Then write an equivalent program that prints the numbers 1 to 10 using a while loop."
   ]
  },
  {
   "cell_type": "code",
   "execution_count": 7,
   "id": "43d0311f",
   "metadata": {},
   "outputs": [
    {
     "name": "stdout",
     "output_type": "stream",
     "text": [
      "The Numbers are:\n",
      "1\n",
      "2\n",
      "3\n",
      "4\n",
      "5\n",
      "6\n",
      "7\n",
      "8\n",
      "9\n",
      "10\n"
     ]
    }
   ],
   "source": [
    "for i in  range(11):\n",
    "    if i==0:\n",
    "        print('The Numbers are:')\n",
    "        \n",
    "    else:\n",
    "        print(i)\n",
    "    "
   ]
  },
  {
   "cell_type": "code",
   "execution_count": 9,
   "id": "9c510950",
   "metadata": {},
   "outputs": [
    {
     "name": "stdout",
     "output_type": "stream",
     "text": [
      "1\n",
      "2\n",
      "3\n",
      "4\n",
      "5\n",
      "6\n",
      "7\n",
      "8\n",
      "9\n",
      "10\n"
     ]
    }
   ],
   "source": [
    "i=0\n",
    "while i>=0:\n",
    "    i+=1\n",
    "    print(i)\n",
    "    if i>=10:\n",
    "        break\n",
    "    "
   ]
  },
  {
   "cell_type": "markdown",
   "id": "95cae9f3",
   "metadata": {},
   "source": [
    "13. If you had a function named bacon() inside a module named spam, how would you call it after importing spam?"
   ]
  },
  {
   "cell_type": "markdown",
   "id": "46e1f2c2",
   "metadata": {},
   "source": [
    "spam.bacon()"
   ]
  }
 ],
 "metadata": {
  "kernelspec": {
   "display_name": "Python 3 (ipykernel)",
   "language": "python",
   "name": "python3"
  },
  "language_info": {
   "codemirror_mode": {
    "name": "ipython",
    "version": 3
   },
   "file_extension": ".py",
   "mimetype": "text/x-python",
   "name": "python",
   "nbconvert_exporter": "python",
   "pygments_lexer": "ipython3",
   "version": "3.9.7"
  }
 },
 "nbformat": 4,
 "nbformat_minor": 5
}
